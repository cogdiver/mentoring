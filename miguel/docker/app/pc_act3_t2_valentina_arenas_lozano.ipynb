{
 "cells": [
  {
   "cell_type": "code",
   "execution_count": null,
   "metadata": {
    "id": "ojcM0g4xTHhQ"
   },
   "outputs": [],
   "source": [
    "from multiprocessing import Pool\n",
    "import matplotlib.pyplot as plt\n",
    "import pandas as pd\n",
    "import numpy as np\n",
    "import time"
   ]
  },
  {
   "cell_type": "markdown",
   "metadata": {
    "id": "TgV3uDuTaDQM"
   },
   "source": [
    "# Carga de datos\n",
    "\n",
    "Esta celda crea la función `generate_sensor_data`, que genera un conjunto de datos con:\n",
    "- Lecturas de sensores aleatorias (entre 0 y 1).\n",
    "- Valores nulos (`NaN`) introducidos aleatoriamente según una probabilidad.\n",
    "- Tiempos simulados en una columna `Timestamp`."
   ]
  },
  {
   "cell_type": "code",
   "execution_count": null,
   "metadata": {
    "id": "dk_UYrmHI3k2"
   },
   "outputs": [],
   "source": [
    "# Function to simulate sensor data\n",
    "def generate_sensor_data(rows=10000, sensors=10, nan_probability=0.1):\n",
    "    np.random.seed(42) # For reproducibility\n",
    "\n",
    "    # Generate random sensor data\n",
    "    data = np.random.rand(rows, sensors) # Values between 0 and 1\n",
    "\n",
    "    # Introduce NaN values based on the specified probability\n",
    "    if nan_probability > 0:\n",
    "        mask = np.random.choice([1, 0], data.shape, p=[nan_probability, 1 - nan_probability])\n",
    "        data = np.where(mask == 1, np.nan, data)\n",
    "\n",
    "    # Create a DataFrame\n",
    "    df = pd.DataFrame(data, columns=[f\"Sensor_{i+1}\" for i in range(sensors)])\n",
    "\n",
    "    # Add a timestamp column\n",
    "    df['Timestamp'] = pd.date_range(start='2023-01-01', periods=rows, freq='s')\n",
    "\n",
    "    return df\n"
   ]
  },
  {
   "cell_type": "markdown",
   "metadata": {
    "id": "JGLVWt80aQhD"
   },
   "source": [
    "# Transformación de datos\n",
    "\n",
    "Esta celda define la función `transform_data`, encargada de aplicar transformaciones y cálculos sobre una fila de datos de sensores.\n",
    "\n",
    "- **Parámetros:** `args`: Tupla que contiene un índice (`idx`) y una fila (`row`) del conjunto de datos.\n",
    "- **Transformaciones:** Multiplica las lecturas de los sensores por un factor de 100. Simula un procesamiento complejo con un retraso de 1 segundo por fila.\n",
    "- **Resultados:** Devuelve una serie con los valores amplificados de los Sensores (`Final_Sensors`), el conteo de valores válidos (`Count`) y los valores mínimo (`Min`) y máximo (`Max`) de la fila procesada.\n"
   ]
  },
  {
   "cell_type": "code",
   "execution_count": null,
   "metadata": {
    "id": "2wtl5hIrMrD4"
   },
   "outputs": [],
   "source": [
    "# Apply transformations to the sensor data\n",
    "def transform_data(row):\n",
    "    t_row = row[:-1] * 100 # Apply mutiply factor\n",
    "\n",
    "    return pd.Series({\n",
    "        \"Final_Sensors\": t_row.tolist(),\n",
    "        \"Count\": t_row.count(),\n",
    "        \"Min\": t_row.min(),\n",
    "        \"Max\": t_row.max(),\n",
    "    })\n"
   ]
  },
  {
   "cell_type": "markdown",
   "metadata": {
    "id": "cqkEBumhbGAo"
   },
   "source": [
    "# Implementacion de procesamiento secuencial, paralelo y con `apply`\n",
    "\n",
    "En esta sección se implementan tres enfoques para procesar los datos de sensores:\n",
    "1. **Procesamiento secuencial:** Procesa las filas del `DataFrame` una por una, midiendo el tiempo total de ejecución.\n",
    "2. **Procesamiento paralelo:** Divide las filas entre múltiples procesos para acelerar el procesamiento, especialmente en datasets grandes.\n",
    "3. **Uso de `apply`:** Aprovecha la función vectorizada de pandas para aplicar las transformaciones a todo el conjunto de datos de forma más eficiente.\n",
    "\n",
    "Cada método se compara en términos de rendimiento y tiempo de ejecución para analizar la eficiencia relativa en diferentes escenarios.\n"
   ]
  },
  {
   "cell_type": "code",
   "execution_count": null,
   "metadata": {
    "id": "Vb2RR15cQ9qN"
   },
   "outputs": [],
   "source": [
    "def process_sequential(data):\n",
    "    start_time = time.time()\n",
    "\n",
    "    # Iterate through each row of the DataFrame\n",
    "    results = [transform_data(row) for  _, row in data.iterrows()]\n",
    "\n",
    "    end_time = time.time() - start_time\n",
    "    return end_time\n"
   ]
  },
  {
   "cell_type": "code",
   "execution_count": null,
   "metadata": {
    "id": "LmGEcyGdQ_h-"
   },
   "outputs": [],
   "source": [
    "def process_parallel(data):\n",
    "    start_time = time.time()\n",
    "\n",
    "    with Pool(10) as pool:\n",
    "        results = pool.map(transform_data, [row for _, row in data.iterrows()])\n",
    "\n",
    "    end_time = time.time() - start_time\n",
    "    return end_time\n"
   ]
  },
  {
   "cell_type": "markdown",
   "metadata": {
    "id": "f5xPJvlKee_l"
   },
   "source": [
    "La función `benchmark_processing` ejecuta y mide el tiempo de procesamiento de los datos utilizando tres métodos distintos: secuencial, paralelo y con `apply`. Cada método se ejecuta 100 veces para capturar la variabilidad en los tiempos de ejecución.\n",
    "\n",
    "El propósito es evaluar y comparar el rendimiento de cada enfoque bajo las mismas condiciones. Finalmente, los tiempos resultantes se utilizan para generar un diagrama de caja que muestra la distribución de los tiempos de ejecución, permitiendo identificar cuál método es más eficiente y cómo varía el rendimiento en diferentes ejecuciones.\n"
   ]
  },
  {
   "cell_type": "code",
   "execution_count": null,
   "metadata": {
    "id": "x3-Uzs4reUuZ"
   },
   "outputs": [],
   "source": [
    "def benchmark_processing(data, iterations=100):\n",
    "    return {\n",
    "        \"Sequential\": [\n",
    "            process_sequential(data)\n",
    "            for _ in range(iterations)\n",
    "        ],\n",
    "        \"Parallel\": [\n",
    "            process_parallel(data)\n",
    "            for _ in range(iterations)\n",
    "        ],\n",
    "    }\n"
   ]
  },
  {
   "cell_type": "markdown",
   "metadata": {
    "id": "-0-U33KFgCW2"
   },
   "source": [
    "Se crea una funcion para la visualizacion de resutlados mediante un diagrama de caja"
   ]
  },
  {
   "cell_type": "code",
   "execution_count": null,
   "metadata": {
    "id": "fvPgTyuPgCJX"
   },
   "outputs": [],
   "source": [
    "def plot_benchmark_results(times):\n",
    "    df = pd.DataFrame(times)\n",
    "    df.boxplot()\n",
    "    plt.title(\"Processing Times for Sequential, Parallel, and Apply\")\n",
    "    plt.ylabel(\"Time (seconds)\")\n",
    "    plt.xticks(rotation=0)\n",
    "    plt.show()\n"
   ]
  },
  {
   "cell_type": "markdown",
   "metadata": {
    "id": "F8snwmOFgw5l"
   },
   "source": [
    "# Análisis de rendimiento"
   ]
  },
  {
   "cell_type": "markdown",
   "metadata": {
    "id": "vsLBLRq-fecn"
   },
   "source": [
    "Se usan las funciones creadas para generar los datos, obtener los tiempos de procesamiento y visualizar los resultados"
   ]
  },
  {
   "cell_type": "code",
   "execution_count": null,
   "metadata": {
    "colab": {
     "base_uri": "https://localhost:8080/",
     "height": 206
    },
    "id": "K7uzcVjQfoZ1",
    "outputId": "f7efb803-27da-4489-bc40-c0aafc4cba5c"
   },
   "outputs": [
    {
     "data": {
      "application/vnd.google.colaboratory.intrinsic+json": {
       "summary": "{\n  \"name\": \"sensor_data\",\n  \"rows\": 10000,\n  \"fields\": [\n    {\n      \"column\": \"Sensor_1\",\n      \"properties\": {\n        \"dtype\": \"number\",\n        \"std\": 0.2883284081985557,\n        \"min\": 0.00024088398716759496,\n        \"max\": 0.9998628872702596,\n        \"num_unique_values\": 9021,\n        \"samples\": [\n          0.19034702929344505,\n          0.1866391064364855,\n          0.6431614511633417\n        ],\n        \"semantic_type\": \"\",\n        \"description\": \"\"\n      }\n    },\n    {\n      \"column\": \"Sensor_2\",\n      \"properties\": {\n        \"dtype\": \"number\",\n        \"std\": 0.29017483730109056,\n        \"min\": 2.934996792258726e-05,\n        \"max\": 0.9997893718125953,\n        \"num_unique_values\": 9000,\n        \"samples\": [\n          0.6249505468900863,\n          0.5716397232701479,\n          0.9016312294863601\n        ],\n        \"semantic_type\": \"\",\n        \"description\": \"\"\n      }\n    },\n    {\n      \"column\": \"Sensor_3\",\n      \"properties\": {\n        \"dtype\": \"number\",\n        \"std\": 0.28861309644767524,\n        \"min\": 1.1634755366141114e-05,\n        \"max\": 0.9999569543687702,\n        \"num_unique_values\": 8998,\n        \"samples\": [\n          0.9486623371232704,\n          0.2531555790643172,\n          0.45256466723409183\n        ],\n        \"semantic_type\": \"\",\n        \"description\": \"\"\n      }\n    },\n    {\n      \"column\": \"Sensor_4\",\n      \"properties\": {\n        \"dtype\": \"number\",\n        \"std\": 0.2883604226830345,\n        \"min\": 0.00012882473329134392,\n        \"max\": 0.9999009770092316,\n        \"num_unique_values\": 9025,\n        \"samples\": [\n          0.43084459412206955,\n          0.22780758667779344,\n          0.5935607978578687\n        ],\n        \"semantic_type\": \"\",\n        \"description\": \"\"\n      }\n    },\n    {\n      \"column\": \"Sensor_5\",\n      \"properties\": {\n        \"dtype\": \"number\",\n        \"std\": 0.28879309892848487,\n        \"min\": 0.00013469300448532007,\n        \"max\": 0.9998413004979217,\n        \"num_unique_values\": 8989,\n        \"samples\": [\n          0.5058319371390709,\n          0.6989913774222979,\n          0.2653424748069332\n        ],\n        \"semantic_type\": \"\",\n        \"description\": \"\"\n      }\n    },\n    {\n      \"column\": \"Sensor_6\",\n      \"properties\": {\n        \"dtype\": \"number\",\n        \"std\": 0.2895037145104997,\n        \"min\": 4.6869791606507505e-05,\n        \"max\": 0.9998750991412935,\n        \"num_unique_values\": 9015,\n        \"samples\": [\n          0.6208143764899094,\n          0.14877631284724968,\n          0.807609699035004\n        ],\n        \"semantic_type\": \"\",\n        \"description\": \"\"\n      }\n    },\n    {\n      \"column\": \"Sensor_7\",\n      \"properties\": {\n        \"dtype\": \"number\",\n        \"std\": 0.28709997610424726,\n        \"min\": 5.536675737993768e-06,\n        \"max\": 0.9999721473679823,\n        \"num_unique_values\": 9027,\n        \"samples\": [\n          0.055715519733534835,\n          0.787782439188962,\n          0.12020219192133497\n        ],\n        \"semantic_type\": \"\",\n        \"description\": \"\"\n      }\n    },\n    {\n      \"column\": \"Sensor_8\",\n      \"properties\": {\n        \"dtype\": \"number\",\n        \"std\": 0.28760340080555086,\n        \"min\": 5.282693229680113e-05,\n        \"max\": 0.9999759742442169,\n        \"num_unique_values\": 8977,\n        \"samples\": [\n          0.9201984175385318,\n          0.40193091360924216,\n          0.8459926352267949\n        ],\n        \"semantic_type\": \"\",\n        \"description\": \"\"\n      }\n    },\n    {\n      \"column\": \"Sensor_9\",\n      \"properties\": {\n        \"dtype\": \"number\",\n        \"std\": 0.2873339083091313,\n        \"min\": 9.637066527867777e-05,\n        \"max\": 0.9999248268331765,\n        \"num_unique_values\": 8966,\n        \"samples\": [\n          0.2591064598732956,\n          0.7243712653246772,\n          0.7617484969288852\n        ],\n        \"semantic_type\": \"\",\n        \"description\": \"\"\n      }\n    },\n    {\n      \"column\": \"Sensor_10\",\n      \"properties\": {\n        \"dtype\": \"number\",\n        \"std\": 0.28792498231675945,\n        \"min\": 0.00016293603982542315,\n        \"max\": 0.999992042302966,\n        \"num_unique_values\": 8986,\n        \"samples\": [\n          0.662799410362232,\n          0.22461561184385193,\n          0.7372276772498267\n        ],\n        \"semantic_type\": \"\",\n        \"description\": \"\"\n      }\n    },\n    {\n      \"column\": \"Timestamp\",\n      \"properties\": {\n        \"dtype\": \"date\",\n        \"min\": \"2023-01-01 00:00:00\",\n        \"max\": \"2023-01-01 02:46:39\",\n        \"num_unique_values\": 10000,\n        \"samples\": [\n          \"2023-01-01 01:44:12\",\n          \"2023-01-01 01:18:04\",\n          \"2023-01-01 00:28:51\"\n        ],\n        \"semantic_type\": \"\",\n        \"description\": \"\"\n      }\n    }\n  ]\n}",
       "type": "dataframe",
       "variable_name": "sensor_data"
      },
      "text/html": [
       "\n",
       "  <div id=\"df-be1b44ca-6faf-40c5-81fe-0197bb0f3804\" class=\"colab-df-container\">\n",
       "    <div>\n",
       "<style scoped>\n",
       "    .dataframe tbody tr th:only-of-type {\n",
       "        vertical-align: middle;\n",
       "    }\n",
       "\n",
       "    .dataframe tbody tr th {\n",
       "        vertical-align: top;\n",
       "    }\n",
       "\n",
       "    .dataframe thead th {\n",
       "        text-align: right;\n",
       "    }\n",
       "</style>\n",
       "<table border=\"1\" class=\"dataframe\">\n",
       "  <thead>\n",
       "    <tr style=\"text-align: right;\">\n",
       "      <th></th>\n",
       "      <th>Sensor_1</th>\n",
       "      <th>Sensor_2</th>\n",
       "      <th>Sensor_3</th>\n",
       "      <th>Sensor_4</th>\n",
       "      <th>Sensor_5</th>\n",
       "      <th>Sensor_6</th>\n",
       "      <th>Sensor_7</th>\n",
       "      <th>Sensor_8</th>\n",
       "      <th>Sensor_9</th>\n",
       "      <th>Sensor_10</th>\n",
       "      <th>Timestamp</th>\n",
       "    </tr>\n",
       "  </thead>\n",
       "  <tbody>\n",
       "    <tr>\n",
       "      <th>0</th>\n",
       "      <td>0.374540</td>\n",
       "      <td>0.950714</td>\n",
       "      <td>0.731994</td>\n",
       "      <td>0.598658</td>\n",
       "      <td>0.156019</td>\n",
       "      <td>0.155995</td>\n",
       "      <td>0.058084</td>\n",
       "      <td>0.866176</td>\n",
       "      <td>0.601115</td>\n",
       "      <td>0.708073</td>\n",
       "      <td>2023-01-01 00:00:00</td>\n",
       "    </tr>\n",
       "    <tr>\n",
       "      <th>1</th>\n",
       "      <td>NaN</td>\n",
       "      <td>0.969910</td>\n",
       "      <td>0.832443</td>\n",
       "      <td>0.212339</td>\n",
       "      <td>0.181825</td>\n",
       "      <td>0.183405</td>\n",
       "      <td>0.304242</td>\n",
       "      <td>0.524756</td>\n",
       "      <td>0.431945</td>\n",
       "      <td>0.291229</td>\n",
       "      <td>2023-01-01 00:00:01</td>\n",
       "    </tr>\n",
       "    <tr>\n",
       "      <th>2</th>\n",
       "      <td>0.611853</td>\n",
       "      <td>0.139494</td>\n",
       "      <td>0.292145</td>\n",
       "      <td>0.366362</td>\n",
       "      <td>NaN</td>\n",
       "      <td>0.785176</td>\n",
       "      <td>0.199674</td>\n",
       "      <td>0.514234</td>\n",
       "      <td>0.592415</td>\n",
       "      <td>0.046450</td>\n",
       "      <td>2023-01-01 00:00:02</td>\n",
       "    </tr>\n",
       "    <tr>\n",
       "      <th>3</th>\n",
       "      <td>0.607545</td>\n",
       "      <td>0.170524</td>\n",
       "      <td>0.065052</td>\n",
       "      <td>0.948886</td>\n",
       "      <td>0.965632</td>\n",
       "      <td>NaN</td>\n",
       "      <td>NaN</td>\n",
       "      <td>0.097672</td>\n",
       "      <td>0.684233</td>\n",
       "      <td>0.440152</td>\n",
       "      <td>2023-01-01 00:00:03</td>\n",
       "    </tr>\n",
       "    <tr>\n",
       "      <th>4</th>\n",
       "      <td>0.122038</td>\n",
       "      <td>0.495177</td>\n",
       "      <td>0.034389</td>\n",
       "      <td>0.909320</td>\n",
       "      <td>0.258780</td>\n",
       "      <td>0.662522</td>\n",
       "      <td>0.311711</td>\n",
       "      <td>NaN</td>\n",
       "      <td>NaN</td>\n",
       "      <td>0.184854</td>\n",
       "      <td>2023-01-01 00:00:04</td>\n",
       "    </tr>\n",
       "  </tbody>\n",
       "</table>\n",
       "</div>\n",
       "    <div class=\"colab-df-buttons\">\n",
       "\n",
       "  <div class=\"colab-df-container\">\n",
       "    <button class=\"colab-df-convert\" onclick=\"convertToInteractive('df-be1b44ca-6faf-40c5-81fe-0197bb0f3804')\"\n",
       "            title=\"Convert this dataframe to an interactive table.\"\n",
       "            style=\"display:none;\">\n",
       "\n",
       "  <svg xmlns=\"http://www.w3.org/2000/svg\" height=\"24px\" viewBox=\"0 -960 960 960\">\n",
       "    <path d=\"M120-120v-720h720v720H120Zm60-500h600v-160H180v160Zm220 220h160v-160H400v160Zm0 220h160v-160H400v160ZM180-400h160v-160H180v160Zm440 0h160v-160H620v160ZM180-180h160v-160H180v160Zm440 0h160v-160H620v160Z\"/>\n",
       "  </svg>\n",
       "    </button>\n",
       "\n",
       "  <style>\n",
       "    .colab-df-container {\n",
       "      display:flex;\n",
       "      gap: 12px;\n",
       "    }\n",
       "\n",
       "    .colab-df-convert {\n",
       "      background-color: #E8F0FE;\n",
       "      border: none;\n",
       "      border-radius: 50%;\n",
       "      cursor: pointer;\n",
       "      display: none;\n",
       "      fill: #1967D2;\n",
       "      height: 32px;\n",
       "      padding: 0 0 0 0;\n",
       "      width: 32px;\n",
       "    }\n",
       "\n",
       "    .colab-df-convert:hover {\n",
       "      background-color: #E2EBFA;\n",
       "      box-shadow: 0px 1px 2px rgba(60, 64, 67, 0.3), 0px 1px 3px 1px rgba(60, 64, 67, 0.15);\n",
       "      fill: #174EA6;\n",
       "    }\n",
       "\n",
       "    .colab-df-buttons div {\n",
       "      margin-bottom: 4px;\n",
       "    }\n",
       "\n",
       "    [theme=dark] .colab-df-convert {\n",
       "      background-color: #3B4455;\n",
       "      fill: #D2E3FC;\n",
       "    }\n",
       "\n",
       "    [theme=dark] .colab-df-convert:hover {\n",
       "      background-color: #434B5C;\n",
       "      box-shadow: 0px 1px 3px 1px rgba(0, 0, 0, 0.15);\n",
       "      filter: drop-shadow(0px 1px 2px rgba(0, 0, 0, 0.3));\n",
       "      fill: #FFFFFF;\n",
       "    }\n",
       "  </style>\n",
       "\n",
       "    <script>\n",
       "      const buttonEl =\n",
       "        document.querySelector('#df-be1b44ca-6faf-40c5-81fe-0197bb0f3804 button.colab-df-convert');\n",
       "      buttonEl.style.display =\n",
       "        google.colab.kernel.accessAllowed ? 'block' : 'none';\n",
       "\n",
       "      async function convertToInteractive(key) {\n",
       "        const element = document.querySelector('#df-be1b44ca-6faf-40c5-81fe-0197bb0f3804');\n",
       "        const dataTable =\n",
       "          await google.colab.kernel.invokeFunction('convertToInteractive',\n",
       "                                                    [key], {});\n",
       "        if (!dataTable) return;\n",
       "\n",
       "        const docLinkHtml = 'Like what you see? Visit the ' +\n",
       "          '<a target=\"_blank\" href=https://colab.research.google.com/notebooks/data_table.ipynb>data table notebook</a>'\n",
       "          + ' to learn more about interactive tables.';\n",
       "        element.innerHTML = '';\n",
       "        dataTable['output_type'] = 'display_data';\n",
       "        await google.colab.output.renderOutput(dataTable, element);\n",
       "        const docLink = document.createElement('div');\n",
       "        docLink.innerHTML = docLinkHtml;\n",
       "        element.appendChild(docLink);\n",
       "      }\n",
       "    </script>\n",
       "  </div>\n",
       "\n",
       "\n",
       "<div id=\"df-34b6e40e-8f41-4d77-b7f3-68b4dfa3797f\">\n",
       "  <button class=\"colab-df-quickchart\" onclick=\"quickchart('df-34b6e40e-8f41-4d77-b7f3-68b4dfa3797f')\"\n",
       "            title=\"Suggest charts\"\n",
       "            style=\"display:none;\">\n",
       "\n",
       "<svg xmlns=\"http://www.w3.org/2000/svg\" height=\"24px\"viewBox=\"0 0 24 24\"\n",
       "     width=\"24px\">\n",
       "    <g>\n",
       "        <path d=\"M19 3H5c-1.1 0-2 .9-2 2v14c0 1.1.9 2 2 2h14c1.1 0 2-.9 2-2V5c0-1.1-.9-2-2-2zM9 17H7v-7h2v7zm4 0h-2V7h2v10zm4 0h-2v-4h2v4z\"/>\n",
       "    </g>\n",
       "</svg>\n",
       "  </button>\n",
       "\n",
       "<style>\n",
       "  .colab-df-quickchart {\n",
       "      --bg-color: #E8F0FE;\n",
       "      --fill-color: #1967D2;\n",
       "      --hover-bg-color: #E2EBFA;\n",
       "      --hover-fill-color: #174EA6;\n",
       "      --disabled-fill-color: #AAA;\n",
       "      --disabled-bg-color: #DDD;\n",
       "  }\n",
       "\n",
       "  [theme=dark] .colab-df-quickchart {\n",
       "      --bg-color: #3B4455;\n",
       "      --fill-color: #D2E3FC;\n",
       "      --hover-bg-color: #434B5C;\n",
       "      --hover-fill-color: #FFFFFF;\n",
       "      --disabled-bg-color: #3B4455;\n",
       "      --disabled-fill-color: #666;\n",
       "  }\n",
       "\n",
       "  .colab-df-quickchart {\n",
       "    background-color: var(--bg-color);\n",
       "    border: none;\n",
       "    border-radius: 50%;\n",
       "    cursor: pointer;\n",
       "    display: none;\n",
       "    fill: var(--fill-color);\n",
       "    height: 32px;\n",
       "    padding: 0;\n",
       "    width: 32px;\n",
       "  }\n",
       "\n",
       "  .colab-df-quickchart:hover {\n",
       "    background-color: var(--hover-bg-color);\n",
       "    box-shadow: 0 1px 2px rgba(60, 64, 67, 0.3), 0 1px 3px 1px rgba(60, 64, 67, 0.15);\n",
       "    fill: var(--button-hover-fill-color);\n",
       "  }\n",
       "\n",
       "  .colab-df-quickchart-complete:disabled,\n",
       "  .colab-df-quickchart-complete:disabled:hover {\n",
       "    background-color: var(--disabled-bg-color);\n",
       "    fill: var(--disabled-fill-color);\n",
       "    box-shadow: none;\n",
       "  }\n",
       "\n",
       "  .colab-df-spinner {\n",
       "    border: 2px solid var(--fill-color);\n",
       "    border-color: transparent;\n",
       "    border-bottom-color: var(--fill-color);\n",
       "    animation:\n",
       "      spin 1s steps(1) infinite;\n",
       "  }\n",
       "\n",
       "  @keyframes spin {\n",
       "    0% {\n",
       "      border-color: transparent;\n",
       "      border-bottom-color: var(--fill-color);\n",
       "      border-left-color: var(--fill-color);\n",
       "    }\n",
       "    20% {\n",
       "      border-color: transparent;\n",
       "      border-left-color: var(--fill-color);\n",
       "      border-top-color: var(--fill-color);\n",
       "    }\n",
       "    30% {\n",
       "      border-color: transparent;\n",
       "      border-left-color: var(--fill-color);\n",
       "      border-top-color: var(--fill-color);\n",
       "      border-right-color: var(--fill-color);\n",
       "    }\n",
       "    40% {\n",
       "      border-color: transparent;\n",
       "      border-right-color: var(--fill-color);\n",
       "      border-top-color: var(--fill-color);\n",
       "    }\n",
       "    60% {\n",
       "      border-color: transparent;\n",
       "      border-right-color: var(--fill-color);\n",
       "    }\n",
       "    80% {\n",
       "      border-color: transparent;\n",
       "      border-right-color: var(--fill-color);\n",
       "      border-bottom-color: var(--fill-color);\n",
       "    }\n",
       "    90% {\n",
       "      border-color: transparent;\n",
       "      border-bottom-color: var(--fill-color);\n",
       "    }\n",
       "  }\n",
       "</style>\n",
       "\n",
       "  <script>\n",
       "    async function quickchart(key) {\n",
       "      const quickchartButtonEl =\n",
       "        document.querySelector('#' + key + ' button');\n",
       "      quickchartButtonEl.disabled = true;  // To prevent multiple clicks.\n",
       "      quickchartButtonEl.classList.add('colab-df-spinner');\n",
       "      try {\n",
       "        const charts = await google.colab.kernel.invokeFunction(\n",
       "            'suggestCharts', [key], {});\n",
       "      } catch (error) {\n",
       "        console.error('Error during call to suggestCharts:', error);\n",
       "      }\n",
       "      quickchartButtonEl.classList.remove('colab-df-spinner');\n",
       "      quickchartButtonEl.classList.add('colab-df-quickchart-complete');\n",
       "    }\n",
       "    (() => {\n",
       "      let quickchartButtonEl =\n",
       "        document.querySelector('#df-34b6e40e-8f41-4d77-b7f3-68b4dfa3797f button');\n",
       "      quickchartButtonEl.style.display =\n",
       "        google.colab.kernel.accessAllowed ? 'block' : 'none';\n",
       "    })();\n",
       "  </script>\n",
       "</div>\n",
       "\n",
       "    </div>\n",
       "  </div>\n"
      ],
      "text/plain": [
       "   Sensor_1  Sensor_2  Sensor_3  Sensor_4  Sensor_5  Sensor_6  Sensor_7  \\\n",
       "0  0.374540  0.950714  0.731994  0.598658  0.156019  0.155995  0.058084   \n",
       "1       NaN  0.969910  0.832443  0.212339  0.181825  0.183405  0.304242   \n",
       "2  0.611853  0.139494  0.292145  0.366362       NaN  0.785176  0.199674   \n",
       "3  0.607545  0.170524  0.065052  0.948886  0.965632       NaN       NaN   \n",
       "4  0.122038  0.495177  0.034389  0.909320  0.258780  0.662522  0.311711   \n",
       "\n",
       "   Sensor_8  Sensor_9  Sensor_10           Timestamp  \n",
       "0  0.866176  0.601115   0.708073 2023-01-01 00:00:00  \n",
       "1  0.524756  0.431945   0.291229 2023-01-01 00:00:01  \n",
       "2  0.514234  0.592415   0.046450 2023-01-01 00:00:02  \n",
       "3  0.097672  0.684233   0.440152 2023-01-01 00:00:03  \n",
       "4       NaN       NaN   0.184854 2023-01-01 00:00:04  "
      ]
     },
     "execution_count": 8,
     "metadata": {},
     "output_type": "execute_result"
    }
   ],
   "source": [
    "# Simulate sensor data\n",
    "sensor_data = generate_sensor_data(rows=10000, sensors=10, nan_probability=0.1)\n",
    "sensor_data.head()"
   ]
  },
  {
   "cell_type": "code",
   "execution_count": null,
   "metadata": {
    "id": "rGTNoQ48f0TF"
   },
   "outputs": [],
   "source": [
    "# Run the benchmark\n",
    "processing_times = benchmark_processing(sensor_data, iterations=10)"
   ]
  },
  {
   "cell_type": "code",
   "execution_count": null,
   "metadata": {
    "colab": {
     "base_uri": "https://localhost:8080/",
     "height": 452
    },
    "id": "a4phZYhUfDYm",
    "outputId": "1a389a27-f3a6-4fc4-b598-1ca3a3798c5a"
   },
   "outputs": [
    {
     "data": {
      "image/png": "[encoded data removed]",
      "text/plain": [
       "<Figure size 640x480 with 1 Axes>"
      ]
     },
     "metadata": {},
     "output_type": "display_data"
    }
   ],
   "source": [
    "# Plot the results\n",
    "plot_benchmark_results(processing_times)"
   ]
  },
  {
   "cell_type": "markdown",
   "metadata": {
    "id": "bzrta7G0ncvg"
   },
   "source": [
    "El gráfico muestra los tiempos de ejecución para el procesamiento **secuencial** y **paralelo**. Se observa que el método **secuencial** es más eficiente, mientras que el procesamiento **paralelo** es significativamente más lento. Esto ocurre por las siguientes razones:\n",
    "\n",
    "1. **Procesamiento secuencial (mejor desempeño):**\n",
    "   - Realiza las operaciones directamente en el mismo proceso, evitando la sobrecarga asociada con la creación y gestión de múltiples procesos.\n",
    "   - No requiere serializar ni transferir datos, lo que resulta en un menor tiempo de ejecución, especialmente para operaciones ligeras como las realizadas en esta simulación.\n",
    "\n",
    "2. **Procesamiento paralelo (peor desempeño):**\n",
    "   - Introduce un **overhead significativo**, debido a la creación y sincronización de múltiples procesos y la serialización de las filas y transferencia entre procesos.\n",
    "   - Es menos eficiente para tareas con operaciones rápidas por fila, ya que el costo del paralelismo (overhead) supera los beneficios.\n",
    "\n",
    "El procesamiento **paralelo** no resulta beneficioso para este tipo de tareas ligeras, donde cada operación es rápida y no lo suficientemente compleja para justificar la sobrecarga del paralelismo. En este caso, el método **secuencial** es la mejor opción."
   ]
  }
 ],
 "metadata": {
  "colab": {
   "provenance": []
  },
  "kernelspec": {
   "display_name": "Python 3 (ipykernel)",
   "language": "python",
   "name": "python3"
  },
  "language_info": {
   "codemirror_mode": {
    "name": "ipython",
    "version": 3
   },
   "file_extension": ".py",
   "mimetype": "text/x-python",
   "name": "python",
   "nbconvert_exporter": "python",
   "pygments_lexer": "ipython3",
   "version": "3.12.5"
  }
 },
 "nbformat": 4,
 "nbformat_minor": 4
}
