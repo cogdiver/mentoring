{
  "nbformat": 4,
  "nbformat_minor": 0,
  "metadata": {
    "colab": {
      "provenance": []
    },
    "kernelspec": {
      "name": "python3",
      "display_name": "Python 3"
    },
    "language_info": {
      "name": "python"
    }
  },
  "cells": [
    {
      "cell_type": "code",
      "source": [
        "import os\n",
        "from google.colab import files\n",
        "\n",
        "\n",
        "def load_gcp_credentials():\n",
        "    print(\"Load your gcp credentials json file\")\n",
        "\n",
        "    # Upload the file from your local machine\n",
        "    uploaded = files.upload()\n",
        "\n",
        "    # Get the name of the uploaded file\n",
        "    file_name = next(iter(uploaded))\n",
        "\n",
        "    # Get the absolute path where the file was saved in the Colab environment\n",
        "    file_path = os.path.abspath(file_name)\n",
        "\n",
        "    # Set the file path as an environment variable\n",
        "    os.environ['GOOGLE_APPLICATION_CREDENTIALS'] = file_path\n",
        "\n",
        "    # Verify that the file path has been correctly assigned\n",
        "    print(\"The uploaded file path is:\", file_path)\n",
        "\n",
        "load_gcp_credentials()"
      ],
      "metadata": {
        "colab": {
          "base_uri": "https://localhost:8080/",
          "height": 107
        },
        "id": "yeLjSQrziumJ",
        "outputId": "ed2801fa-cad9-4bfc-c00a-1b9b92eaf29e"
      },
      "execution_count": 25,
      "outputs": [
        {
          "output_type": "stream",
          "name": "stdout",
          "text": [
            "Load your gcp credentials json file\n"
          ]
        },
        {
          "output_type": "display_data",
          "data": {
            "text/plain": [
              "<IPython.core.display.HTML object>"
            ],
            "text/html": [
              "\n",
              "     <input type=\"file\" id=\"files-6c479998-dc1e-448b-8670-546abed9c756\" name=\"files[]\" multiple disabled\n",
              "        style=\"border:none\" />\n",
              "     <output id=\"result-6c479998-dc1e-448b-8670-546abed9c756\">\n",
              "      Upload widget is only available when the cell has been executed in the\n",
              "      current browser session. Please rerun this cell to enable.\n",
              "      </output>\n",
              "      <script>// Copyright 2017 Google LLC\n",
              "//\n",
              "// Licensed under the Apache License, Version 2.0 (the \"License\");\n",
              "// you may not use this file except in compliance with the License.\n",
              "// You may obtain a copy of the License at\n",
              "//\n",
              "//      http://www.apache.org/licenses/LICENSE-2.0\n",
              "//\n",
              "// Unless required by applicable law or agreed to in writing, software\n",
              "// distributed under the License is distributed on an \"AS IS\" BASIS,\n",
              "// WITHOUT WARRANTIES OR CONDITIONS OF ANY KIND, either express or implied.\n",
              "// See the License for the specific language governing permissions and\n",
              "// limitations under the License.\n",
              "\n",
              "/**\n",
              " * @fileoverview Helpers for google.colab Python module.\n",
              " */\n",
              "(function(scope) {\n",
              "function span(text, styleAttributes = {}) {\n",
              "  const element = document.createElement('span');\n",
              "  element.textContent = text;\n",
              "  for (const key of Object.keys(styleAttributes)) {\n",
              "    element.style[key] = styleAttributes[key];\n",
              "  }\n",
              "  return element;\n",
              "}\n",
              "\n",
              "// Max number of bytes which will be uploaded at a time.\n",
              "const MAX_PAYLOAD_SIZE = 100 * 1024;\n",
              "\n",
              "function _uploadFiles(inputId, outputId) {\n",
              "  const steps = uploadFilesStep(inputId, outputId);\n",
              "  const outputElement = document.getElementById(outputId);\n",
              "  // Cache steps on the outputElement to make it available for the next call\n",
              "  // to uploadFilesContinue from Python.\n",
              "  outputElement.steps = steps;\n",
              "\n",
              "  return _uploadFilesContinue(outputId);\n",
              "}\n",
              "\n",
              "// This is roughly an async generator (not supported in the browser yet),\n",
              "// where there are multiple asynchronous steps and the Python side is going\n",
              "// to poll for completion of each step.\n",
              "// This uses a Promise to block the python side on completion of each step,\n",
              "// then passes the result of the previous step as the input to the next step.\n",
              "function _uploadFilesContinue(outputId) {\n",
              "  const outputElement = document.getElementById(outputId);\n",
              "  const steps = outputElement.steps;\n",
              "\n",
              "  const next = steps.next(outputElement.lastPromiseValue);\n",
              "  return Promise.resolve(next.value.promise).then((value) => {\n",
              "    // Cache the last promise value to make it available to the next\n",
              "    // step of the generator.\n",
              "    outputElement.lastPromiseValue = value;\n",
              "    return next.value.response;\n",
              "  });\n",
              "}\n",
              "\n",
              "/**\n",
              " * Generator function which is called between each async step of the upload\n",
              " * process.\n",
              " * @param {string} inputId Element ID of the input file picker element.\n",
              " * @param {string} outputId Element ID of the output display.\n",
              " * @return {!Iterable<!Object>} Iterable of next steps.\n",
              " */\n",
              "function* uploadFilesStep(inputId, outputId) {\n",
              "  const inputElement = document.getElementById(inputId);\n",
              "  inputElement.disabled = false;\n",
              "\n",
              "  const outputElement = document.getElementById(outputId);\n",
              "  outputElement.innerHTML = '';\n",
              "\n",
              "  const pickedPromise = new Promise((resolve) => {\n",
              "    inputElement.addEventListener('change', (e) => {\n",
              "      resolve(e.target.files);\n",
              "    });\n",
              "  });\n",
              "\n",
              "  const cancel = document.createElement('button');\n",
              "  inputElement.parentElement.appendChild(cancel);\n",
              "  cancel.textContent = 'Cancel upload';\n",
              "  const cancelPromise = new Promise((resolve) => {\n",
              "    cancel.onclick = () => {\n",
              "      resolve(null);\n",
              "    };\n",
              "  });\n",
              "\n",
              "  // Wait for the user to pick the files.\n",
              "  const files = yield {\n",
              "    promise: Promise.race([pickedPromise, cancelPromise]),\n",
              "    response: {\n",
              "      action: 'starting',\n",
              "    }\n",
              "  };\n",
              "\n",
              "  cancel.remove();\n",
              "\n",
              "  // Disable the input element since further picks are not allowed.\n",
              "  inputElement.disabled = true;\n",
              "\n",
              "  if (!files) {\n",
              "    return {\n",
              "      response: {\n",
              "        action: 'complete',\n",
              "      }\n",
              "    };\n",
              "  }\n",
              "\n",
              "  for (const file of files) {\n",
              "    const li = document.createElement('li');\n",
              "    li.append(span(file.name, {fontWeight: 'bold'}));\n",
              "    li.append(span(\n",
              "        `(${file.type || 'n/a'}) - ${file.size} bytes, ` +\n",
              "        `last modified: ${\n",
              "            file.lastModifiedDate ? file.lastModifiedDate.toLocaleDateString() :\n",
              "                                    'n/a'} - `));\n",
              "    const percent = span('0% done');\n",
              "    li.appendChild(percent);\n",
              "\n",
              "    outputElement.appendChild(li);\n",
              "\n",
              "    const fileDataPromise = new Promise((resolve) => {\n",
              "      const reader = new FileReader();\n",
              "      reader.onload = (e) => {\n",
              "        resolve(e.target.result);\n",
              "      };\n",
              "      reader.readAsArrayBuffer(file);\n",
              "    });\n",
              "    // Wait for the data to be ready.\n",
              "    let fileData = yield {\n",
              "      promise: fileDataPromise,\n",
              "      response: {\n",
              "        action: 'continue',\n",
              "      }\n",
              "    };\n",
              "\n",
              "    // Use a chunked sending to avoid message size limits. See b/62115660.\n",
              "    let position = 0;\n",
              "    do {\n",
              "      const length = Math.min(fileData.byteLength - position, MAX_PAYLOAD_SIZE);\n",
              "      const chunk = new Uint8Array(fileData, position, length);\n",
              "      position += length;\n",
              "\n",
              "      const base64 = btoa(String.fromCharCode.apply(null, chunk));\n",
              "      yield {\n",
              "        response: {\n",
              "          action: 'append',\n",
              "          file: file.name,\n",
              "          data: base64,\n",
              "        },\n",
              "      };\n",
              "\n",
              "      let percentDone = fileData.byteLength === 0 ?\n",
              "          100 :\n",
              "          Math.round((position / fileData.byteLength) * 100);\n",
              "      percent.textContent = `${percentDone}% done`;\n",
              "\n",
              "    } while (position < fileData.byteLength);\n",
              "  }\n",
              "\n",
              "  // All done.\n",
              "  yield {\n",
              "    response: {\n",
              "      action: 'complete',\n",
              "    }\n",
              "  };\n",
              "}\n",
              "\n",
              "scope.google = scope.google || {};\n",
              "scope.google.colab = scope.google.colab || {};\n",
              "scope.google.colab._files = {\n",
              "  _uploadFiles,\n",
              "  _uploadFilesContinue,\n",
              "};\n",
              "})(self);\n",
              "</script> "
            ]
          },
          "metadata": {}
        },
        {
          "output_type": "stream",
          "name": "stdout",
          "text": [
            "Saving gcp to gcp (1)\n",
            "The uploaded file path is: /content/gcp (1)\n"
          ]
        }
      ]
    },
    {
      "cell_type": "code",
      "source": [
        "from google.cloud import bigquery\n",
        "\n",
        "client = bigquery.Client()\n",
        "\n",
        "query = \"SELECT * FROM llm.medicamentos LIMIT 3\"\n",
        "result = client.query(query).result()\n",
        "\n",
        "for r in result:\n",
        "    v = dict(r)\n",
        "    print(v)"
      ],
      "metadata": {
        "colab": {
          "base_uri": "https://localhost:8080/"
        },
        "id": "U_IV6R0Fi8CN",
        "outputId": "d018665a-ec8a-4066-edb2-ac8c9d8ca3d3"
      },
      "execution_count": 38,
      "outputs": [
        {
          "output_type": "stream",
          "name": "stdout",
          "text": [
            "{'id_medicinale': 'DB00006', 'id_interaction_drug': 'DB00091', 'medicinale': 'Bivalirudin', 'interaction_drug': 'Cyclosporine', 'interaction_type': 'serum concentration'}\n",
            "{'id_medicinale': 'DB00091', 'id_interaction_drug': 'DB00104', 'medicinale': 'Cyclosporine', 'interaction_drug': 'Octreotide', 'interaction_type': 'serum concentration'}\n",
            "{'id_medicinale': 'DB00014', 'id_interaction_drug': 'DB00104', 'medicinale': 'Goserelin', 'interaction_drug': 'Octreotide', 'interaction_type': 'QTc-prolonging activities'}\n"
          ]
        }
      ]
    },
    {
      "cell_type": "code",
      "source": [
        "v = next(result)"
      ],
      "metadata": {
        "id": "R74HHrCApEZ6"
      },
      "execution_count": 34,
      "outputs": []
    },
    {
      "cell_type": "code",
      "source": [
        "# [dict(row) for row in result]\n",
        "# df = result.to_dataframe().to_dict('records')"
      ],
      "metadata": {
        "colab": {
          "base_uri": "https://localhost:8080/"
        },
        "id": "7u-OQhGSjai1",
        "outputId": "bf73b6e1-68a4-480b-c2cc-a63860575e88"
      },
      "execution_count": 29,
      "outputs": [
        {
          "output_type": "execute_result",
          "data": {
            "text/plain": [
              "[{'id_medicinale': 'DB00006',\n",
              "  'id_interaction_drug': 'DB00091',\n",
              "  'medicinale': 'Bivalirudin',\n",
              "  'interaction_drug': 'Cyclosporine',\n",
              "  'interaction_type': 'serum concentration'},\n",
              " {'id_medicinale': 'DB00091',\n",
              "  'id_interaction_drug': 'DB00104',\n",
              "  'medicinale': 'Cyclosporine',\n",
              "  'interaction_drug': 'Octreotide',\n",
              "  'interaction_type': 'serum concentration'},\n",
              " {'id_medicinale': 'DB00014',\n",
              "  'id_interaction_drug': 'DB00104',\n",
              "  'medicinale': 'Goserelin',\n",
              "  'interaction_drug': 'Octreotide',\n",
              "  'interaction_type': 'QTc-prolonging activities'}]"
            ]
          },
          "metadata": {},
          "execution_count": 29
        }
      ]
    },
    {
      "cell_type": "code",
      "execution_count": 7,
      "metadata": {
        "colab": {
          "base_uri": "https://localhost:8080/"
        },
        "id": "agsVWRVYbYnS",
        "outputId": "f3628618-a9c3-47b6-9532-a20501c80d32"
      },
      "outputs": [
        {
          "output_type": "stream",
          "name": "stdout",
          "text": [
            "procesando query: SELECT * FROM `project.dataset.table`\n",
            "Sending email\n",
            "correo de valentina\n",
            "valentina.gomez@....\n",
            "procesando query: SELECT * FROM `project.dataset.table_2`\n",
            "Sending email\n",
            "correo de valentina\n",
            "valentina.gomez@....\n"
          ]
        }
      ],
      "source": [
        "import pandas as pd\n",
        "\n",
        "from_address = \"valentina.gomez@....\"\n",
        "\n",
        "def run_validation(query):\n",
        "    print(f\"procesando query: {query}\")\n",
        "    # df = client.query(query)\n",
        "    # ..\n",
        "    # ejecutar query\n",
        "    return pd.DataFrame()\n",
        "\n",
        "def send_email(subject, message, to_addresses):\n",
        "    from_address = \"correo de valentina\"\n",
        "    print(\"Sending email\")\n",
        "    print(from_address)\n",
        "    # to_addresses = [\"p1\",\"p2\"]\n",
        "    # enviando email\n",
        "\n",
        "def send_df_email(df, subject, message, to_addresses):\n",
        "    print(\"Sending DataFrame in email\")\n",
        "    send_email(subject, message, to_addresses)\n",
        "\n",
        "\n",
        "# query_base = \"SELECT * FROM interno.config.validaciones\"\n",
        "# result = client.query(query_base).result()\n",
        "# validations = result.to_dataframe().to_dict('records')\n",
        "\n",
        "validations = [\n",
        "    {\n",
        "        'query': \"SELECT * FROM `project.dataset.table`\",\n",
        "        'subject': \"Hay datos\",\n",
        "        'message': \"Hola, equipo, hoy tenemos datos\",\n",
        "        'empty_subject': \"No hay datos\",\n",
        "        'empty_message': \"Algo paso con el código\",\n",
        "        'to_addresses': [\"p1\", \"p2\"],\n",
        "    },\n",
        "    {\n",
        "        'query': \"SELECT * FROM `project.dataset.table_2`\",\n",
        "        'subject': \"Hay datos\",\n",
        "        'message': \"Hola, equipo, hoy tenemos datos\",\n",
        "        'empty_subject': \"No hay datos\",\n",
        "        'empty_message': \"Hola, equipo, hoy no tenemos datos\",\n",
        "        'to_addresses': [\"p1\", \"p2\", \"p3\"],\n",
        "    }\n",
        "]\n",
        "\n",
        "# for r in result:\n",
        "#     v = dict(r)\n",
        "for v in validations:\n",
        "    query = v['query']\n",
        "    subject = v['subject']\n",
        "    message = v['message']\n",
        "    empty_subject = v['empty_subject']\n",
        "    empty_message = v['empty_message']\n",
        "    to_addresses = v['to_addresses']\n",
        "\n",
        "    df = run_validation(query)\n",
        "\n",
        "    if not df.empty:\n",
        "        send_df_email(df, subject, message, to_addresses)\n",
        "    else:\n",
        "        send_email(empty_subject, empty_message, to_addresses)\n",
        "\n",
        "\n",
        "    # Evitando fatiga por exceso de notificación\n",
        "    try:\n",
        "        df = run_validation(query)\n",
        "\n",
        "        if not df.empty:\n",
        "            send_df_email(df, subject, message, to_addresses) # Haga algo\n",
        "\n",
        "    except Exception as e:\n",
        "        send_email(empty_subject, f\"{empty_message}. {e}\", ['nosotros'])"
      ]
    },
    {
      "cell_type": "code",
      "source": [
        "# [listas] (tuplas) {diccionarios} {set - conjuntos}\n",
        "# {\"llave\": \"valor\"}\n",
        "# {\"v1\", \"v2\", \"v2\"}\n",
        "\n",
        "# (generadores) -> no guarda información, la genera\n",
        "\n",
        "lista = [i for i in range(5)] # 20000000000000\n",
        "gen = (function_generacion_de_datos(i) for i in range(20000000000000) if i % 2 == 0)\n"
      ],
      "metadata": {
        "id": "hGwWQpdnlFPp"
      },
      "execution_count": 22,
      "outputs": []
    },
    {
      "cell_type": "code",
      "source": [
        "lista, gen"
      ],
      "metadata": {
        "colab": {
          "base_uri": "https://localhost:8080/"
        },
        "id": "F-8DtpBhnELK",
        "outputId": "c49a47fd-7810-4b12-9136-dbcc29c15304"
      },
      "execution_count": 8,
      "outputs": [
        {
          "output_type": "execute_result",
          "data": {
            "text/plain": [
              "([0, 1, 2, 3, 4], <generator object <genexpr> at 0x7ce857bc0820>)"
            ]
          },
          "metadata": {},
          "execution_count": 8
        }
      ]
    },
    {
      "cell_type": "code",
      "source": [
        "for v in lista:\n",
        "    print(v)\n",
        "    if v == 2:\n",
        "        break"
      ],
      "metadata": {
        "colab": {
          "base_uri": "https://localhost:8080/"
        },
        "id": "XselGJFtm5q8",
        "outputId": "85035e54-948b-41c4-9e58-31e7563c5707"
      },
      "execution_count": 10,
      "outputs": [
        {
          "output_type": "stream",
          "name": "stdout",
          "text": [
            "0\n",
            "1\n",
            "2\n"
          ]
        }
      ]
    },
    {
      "cell_type": "code",
      "source": [
        "from time import sleep\n",
        "\n",
        "for v in gen:\n",
        "    print(v)\n",
        "    # if v == 2:\n",
        "    #     break\n",
        "    sleep(1)"
      ],
      "metadata": {
        "colab": {
          "base_uri": "https://localhost:8080/",
          "height": 297
        },
        "id": "eBo2CoX-mnUQ",
        "outputId": "427aa6f0-5209-486d-f952-dbc5fda9af14"
      },
      "execution_count": 23,
      "outputs": [
        {
          "output_type": "stream",
          "name": "stdout",
          "text": [
            "0\n",
            "2\n",
            "4\n",
            "6\n",
            "8\n",
            "10\n",
            "12\n"
          ]
        },
        {
          "output_type": "error",
          "ename": "KeyboardInterrupt",
          "evalue": "",
          "traceback": [
            "\u001b[0;31m---------------------------------------------------------------------------\u001b[0m",
            "\u001b[0;31mKeyboardInterrupt\u001b[0m                         Traceback (most recent call last)",
            "\u001b[0;32m<ipython-input-23-4fbee4f8d110>\u001b[0m in \u001b[0;36m<cell line: 3>\u001b[0;34m()\u001b[0m\n\u001b[1;32m      5\u001b[0m     \u001b[0;31m# if v == 2:\u001b[0m\u001b[0;34m\u001b[0m\u001b[0;34m\u001b[0m\u001b[0m\n\u001b[1;32m      6\u001b[0m     \u001b[0;31m#     break\u001b[0m\u001b[0;34m\u001b[0m\u001b[0;34m\u001b[0m\u001b[0m\n\u001b[0;32m----> 7\u001b[0;31m     \u001b[0msleep\u001b[0m\u001b[0;34m(\u001b[0m\u001b[0;36m1\u001b[0m\u001b[0;34m)\u001b[0m\u001b[0;34m\u001b[0m\u001b[0;34m\u001b[0m\u001b[0m\n\u001b[0m",
            "\u001b[0;31mKeyboardInterrupt\u001b[0m: "
          ]
        }
      ]
    },
    {
      "cell_type": "code",
      "source": [
        "next(gen)"
      ],
      "metadata": {
        "colab": {
          "base_uri": "https://localhost:8080/"
        },
        "id": "TAT6cOvJndOe",
        "outputId": "64d38f58-9778-4c52-a142-beea9f8edfc0"
      },
      "execution_count": 20,
      "outputs": [
        {
          "output_type": "execute_result",
          "data": {
            "text/plain": [
              "19"
            ]
          },
          "metadata": {},
          "execution_count": 20
        }
      ]
    },
    {
      "cell_type": "code",
      "source": [
        "next(lista)\n",
        "\n",
        "for v, j in lista:\n",
        "v, j = next(lista)"
      ],
      "metadata": {
        "colab": {
          "base_uri": "https://localhost:8080/",
          "height": 141
        },
        "id": "1Uo6Q45snljs",
        "outputId": "564ebbeb-a132-4130-c2a8-d59e388e61dd"
      },
      "execution_count": 21,
      "outputs": [
        {
          "output_type": "error",
          "ename": "TypeError",
          "evalue": "'list' object is not an iterator",
          "traceback": [
            "\u001b[0;31m---------------------------------------------------------------------------\u001b[0m",
            "\u001b[0;31mTypeError\u001b[0m                                 Traceback (most recent call last)",
            "\u001b[0;32m<ipython-input-21-cfa830c9416d>\u001b[0m in \u001b[0;36m<cell line: 1>\u001b[0;34m()\u001b[0m\n\u001b[0;32m----> 1\u001b[0;31m \u001b[0mnext\u001b[0m\u001b[0;34m(\u001b[0m\u001b[0mlista\u001b[0m\u001b[0;34m)\u001b[0m\u001b[0;34m\u001b[0m\u001b[0;34m\u001b[0m\u001b[0m\n\u001b[0m",
            "\u001b[0;31mTypeError\u001b[0m: 'list' object is not an iterator"
          ]
        }
      ]
    }
  ]
}