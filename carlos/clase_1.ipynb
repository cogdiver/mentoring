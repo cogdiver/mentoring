{
  "nbformat": 4,
  "nbformat_minor": 0,
  "metadata": {
    "colab": {
      "provenance": []
    },
    "kernelspec": {
      "name": "python3",
      "display_name": "Python 3"
    },
    "language_info": {
      "name": "python"
    }
  },
  "cells": [
    {
      "cell_type": "code",
      "execution_count": 1,
      "metadata": {
        "colab": {
          "base_uri": "https://localhost:8080/"
        },
        "id": "-piaidpahKtl",
        "outputId": "e870224d-3b21-4310-a2ee-d3b65b5d5940"
      },
      "outputs": [
        {
          "output_type": "execute_result",
          "data": {
            "text/plain": [
              "4"
            ]
          },
          "metadata": {},
          "execution_count": 1
        }
      ],
      "source": [
        "x = 1\n",
        "y = 2\n",
        "x + 1 + y"
      ]
    },
    {
      "cell_type": "markdown",
      "source": [
        "- Git y Github\n",
        "- Archivos tipo Markdown\n",
        "- Google Colab (Notebooks)\n",
        "- Deepnote (Notebooks)\n",
        "- Replit (VSCode)"
      ],
      "metadata": {
        "id": "1ylEYTc8hoOn"
      }
    },
    {
      "cell_type": "code",
      "source": [
        "# Variables\n",
        "\"\"\"\n",
        "Esto es una nota\n",
        "de varias lineas\n",
        "\"\"\"\n",
        "'''\n",
        "Otro comentario de varias\n",
        "lineas, para probar\n",
        "'''"
      ],
      "metadata": {
        "id": "lT37rYNZhn5w"
      },
      "execution_count": 4,
      "outputs": []
    },
    {
      "cell_type": "code",
      "source": [
        "# Programación funcional (def)\n",
        "# Programación Orientada a objetos (utiliza funcional) (class)\n",
        "# - variables ( tipos de datos )\n",
        "# - operadores\n",
        "# - condicionales\n",
        "# - bubles\n",
        "# - inputs/outputs\n",
        "# - Manejo de errores\n",
        "# - modulos y librerias (https://pypi.org/)"
      ],
      "metadata": {
        "colab": {
          "base_uri": "https://localhost:8080/",
          "height": 35
        },
        "id": "zOp4MGusj3wc",
        "outputId": "3118e7d4-be8e-4776-e9f9-83d003b49a79"
      },
      "execution_count": 5,
      "outputs": [
        {
          "output_type": "execute_result",
          "data": {
            "text/plain": [
              "'\\nOtro comentario de varias\\nlineas, para probar\\n'"
            ],
            "application/vnd.google.colaboratory.intrinsic+json": {
              "type": "string"
            }
          },
          "metadata": {},
          "execution_count": 5
        }
      ]
    },
    {
      "cell_type": "code",
      "source": [
        "x = 1\n",
        "my_variable = 2\n",
        "print(my_variable) # parametros posicionales, nombrados\n",
        "print(type(my_variable))\n",
        "str(my_variable)\n",
        "\n",
        "string = \"Hola\"\n",
        "intero = 1\n",
        "flotante = 2.55\n",
        "booleano = False\n",
        "print(\"string:\", type(string))\n",
        "print(\"intero:\", type(intero))\n",
        "print(\"flotante:\", type(flotante))\n",
        "print(\"booleano:\", type(booleano))"
      ],
      "metadata": {
        "colab": {
          "base_uri": "https://localhost:8080/"
        },
        "id": "DEwtyalJlOoA",
        "outputId": "2ccdad78-6622-4e7b-de27-8c2d33dfd77a"
      },
      "execution_count": 16,
      "outputs": [
        {
          "output_type": "stream",
          "name": "stdout",
          "text": [
            "2\n",
            "<class 'int'>\n",
            "string: <class 'str'>\n",
            "intero: <class 'int'>\n",
            "flotante: <class 'float'>\n",
            "booleano: <class 'bool'>\n"
          ]
        }
      ]
    },
    {
      "cell_type": "code",
      "source": [
        "listas = [\"1\",\"2\", \"3\"]\n",
        "tuplas = (\"1\",\"2\", \"3\")\n",
        "conjuntos = {\"1\",\"2\", \"3\"}\n",
        "print(\"listas:\", type(listas))\n",
        "print(\"tuplas:\", type(tuplas))\n",
        "print(\"conjuntos:\", type(conjuntos))\n",
        "\n",
        "print(listas[0])\n",
        "listas[0] = \"4\"\n",
        "listas.append(\"5\")\n",
        "listas.append(\"5\")\n",
        "print(listas)\n",
        "\n",
        "print(tuplas[0])\n",
        "# tuplas[0] = \"4\" # TypeError: 'tuple' object does not support item assignment\n",
        "tuplas = (\"4\",\"2\", \"3\")\n",
        "print(tuplas.index(\"4\"))\n",
        "print(tuplas)\n",
        "\n",
        "# print(conjuntos[0]) # TypeError: 'set' object is not subscriptable\n",
        "conjuntos.add(\"5\")\n",
        "conjuntos.add(\"5\")\n",
        "print(conjuntos)\n",
        "print(set(listas))"
      ],
      "metadata": {
        "colab": {
          "base_uri": "https://localhost:8080/"
        },
        "id": "RpTs1LcznWOT",
        "outputId": "4df604a8-8b68-488c-e276-fa323e10f14a"
      },
      "execution_count": 30,
      "outputs": [
        {
          "output_type": "stream",
          "name": "stdout",
          "text": [
            "listas: <class 'list'>\n",
            "tuplas: <class 'tuple'>\n",
            "conjuntos: <class 'set'>\n",
            "1\n",
            "['4', '2', '3', '5', '5']\n",
            "1\n",
            "0\n",
            "('4', '2', '3')\n",
            "{'1', '5', '2', '3'}\n",
            "{'3', '5', '2', '4'}\n"
          ]
        }
      ]
    },
    {
      "cell_type": "code",
      "source": [
        "# Operadores de comparación\n",
        "print(1 == 2)\n",
        "print(1 != 2)\n",
        "print(1 > 2)\n",
        "print(1 < 2)\n",
        "print(1 >= 2)\n",
        "print(1 <= 2)\n",
        "\n",
        "# Operaciones\n",
        "print(1 + 1)\n",
        "print(1 * 2)\n",
        "print(2 - 1)\n",
        "print(10 / 3)\n",
        "print(10 // 3)\n",
        "print(10 % 3)"
      ],
      "metadata": {
        "colab": {
          "base_uri": "https://localhost:8080/"
        },
        "id": "VwzOl26KpWMt",
        "outputId": "51cffb28-8423-4a66-b576-7266832580c8"
      },
      "execution_count": 36,
      "outputs": [
        {
          "output_type": "stream",
          "name": "stdout",
          "text": [
            "False\n",
            "True\n",
            "False\n",
            "True\n",
            "False\n",
            "True\n",
            "2\n",
            "2\n",
            "1\n",
            "3.3333333333333335\n",
            "3\n",
            "1\n"
          ]
        }
      ]
    },
    {
      "cell_type": "code",
      "source": [
        "x = int(\"5\") # true\n",
        "x = int(\"0\") # false\n",
        "x = \"\" # false\n",
        "x = \"a\" # true\n",
        "x = [\"a\"] # true\n",
        "x = [] # false\n",
        "x = () # false\n",
        "x = {} # false\n",
        "print(\"x:\", bool(x), type(x))"
      ],
      "metadata": {
        "colab": {
          "base_uri": "https://localhost:8080/"
        },
        "id": "zseXzXrVqM4F",
        "outputId": "8900396b-cfbc-4843-a143-f55fdc2d710e"
      },
      "execution_count": 48,
      "outputs": [
        {
          "output_type": "stream",
          "name": "stdout",
          "text": [
            "x: False <class 'dict'>\n"
          ]
        }
      ]
    },
    {
      "cell_type": "code",
      "source": [
        "age = 18\n",
        "x = False\n",
        "\n",
        "if age >= 18 and x:\n",
        "  print(\"es mayor de edad\")\n",
        "  # ...\n",
        "elif age >= 13:\n",
        "  print(\"es adolescente\")\n",
        "  # ...\n",
        "else:\n",
        "  print(\"es menor de edad\")\n",
        "  # ..."
      ],
      "metadata": {
        "colab": {
          "base_uri": "https://localhost:8080/"
        },
        "id": "bdKbsiaxq4sC",
        "outputId": "c5b17a70-2905-4585-d728-67e624e8257d"
      },
      "execution_count": 55,
      "outputs": [
        {
          "output_type": "stream",
          "name": "stdout",
          "text": [
            "es adolescente\n"
          ]
        }
      ]
    },
    {
      "cell_type": "code",
      "source": [
        "# for value in conjuntos:\n",
        "# for value in tuplas:\n",
        "for value in listas:\n",
        "    print(\"Mi valor:\", value)\n",
        "\n",
        "    if value == \"5\":\n",
        "      break"
      ],
      "metadata": {
        "colab": {
          "base_uri": "https://localhost:8080/"
        },
        "id": "FXA9CvZVrx5y",
        "outputId": "2d124c8c-7657-4277-830c-3adb859e554e"
      },
      "execution_count": 63,
      "outputs": [
        {
          "output_type": "stream",
          "name": "stdout",
          "text": [
            "Mi valor: 4\n",
            "Mi valor: 2\n",
            "Mi valor: 3\n",
            "Mi valor: 5\n"
          ]
        }
      ]
    },
    {
      "cell_type": "code",
      "source": [
        "count = 1\n",
        "while count <= 10:\n",
        "  print(\"Mi valor:\", count)\n",
        "  # count = count + 1\n",
        "  count += 1\n",
        "\n",
        "  if count == 5:\n",
        "    break"
      ],
      "metadata": {
        "colab": {
          "base_uri": "https://localhost:8080/"
        },
        "id": "8lU4Vl4ZsRZY",
        "outputId": "3eee04c6-0a42-4ce7-ded6-e52e089c5ab0"
      },
      "execution_count": 68,
      "outputs": [
        {
          "output_type": "stream",
          "name": "stdout",
          "text": [
            "Mi valor: 1\n",
            "Mi valor: 2\n",
            "Mi valor: 3\n",
            "Mi valor: 4\n"
          ]
        }
      ]
    },
    {
      "cell_type": "code",
      "source": [
        "x = input(\"Escribe tu nombre:\")\n",
        "print(\"Hola\", x, type(x))\n",
        "\n",
        "age = input(\"Escribe tu edad:\")\n",
        "try:\n",
        "  age = int(age)\n",
        "except:\n",
        "  print(\"Digite un número válido\")\n",
        "# else: # se ejecuta luego de que try termine bien\n",
        "#   print(\"Hola\", age, type(age))\n",
        "finally:\n",
        "  print(\"Hola\", age, type(age))"
      ],
      "metadata": {
        "colab": {
          "base_uri": "https://localhost:8080/"
        },
        "id": "cH3T9Wg_tK6H",
        "outputId": "1a7d3122-f71c-4c3a-8900-a3ce99c0a2b3"
      },
      "execution_count": 78,
      "outputs": [
        {
          "output_type": "stream",
          "name": "stdout",
          "text": [
            "Escribe tu nombre:valent\n",
            "Hola valent <class 'str'>\n",
            "Escribe tu edad:ssad\n",
            "Digite un número válido\n",
            "Hola ssad <class 'str'>\n"
          ]
        }
      ]
    },
    {
      "cell_type": "code",
      "source": [
        "# DRY - Don't repeat yourself\n",
        "def my_function(iterable):\n",
        "    for value in iterable:\n",
        "        print(\"Mi valor:\", value)\n",
        "\n",
        "        if value == \"5\":\n",
        "            break\n",
        "\n",
        "my_function(listas)\n",
        "my_function(tuplas)\n",
        "my_function(conjuntos)"
      ],
      "metadata": {
        "colab": {
          "base_uri": "https://localhost:8080/"
        },
        "id": "Gq068xUTumcj",
        "outputId": "35a53f47-ae70-4bd4-9036-a71b334f5eb9"
      },
      "execution_count": 82,
      "outputs": [
        {
          "output_type": "stream",
          "name": "stdout",
          "text": [
            "Mi valor: 4\n",
            "Mi valor: 2\n",
            "Mi valor: 3\n",
            "Mi valor: 5\n",
            "Mi valor: 4\n",
            "Mi valor: 2\n",
            "Mi valor: 3\n",
            "Mi valor: 1\n",
            "Mi valor: 5\n"
          ]
        }
      ]
    },
    {
      "cell_type": "code",
      "source": [
        "def saludar_nombre_edad(nombre, edad):\n",
        "    # print(\"Hola,\" , nombre, \"!! Tienes\", edad, \"años. Dentro de 5 años tendras\", edad + 5, \"años\")\n",
        "    print(f\"Hola, {nombre}!! Tienes {edad:.3f} años. Dentro de 5 años tendras {edad + 5} años\") # estilo de format\n",
        "\n",
        "saludar_nombre_edad(\"Juan\", 18)"
      ],
      "metadata": {
        "colab": {
          "base_uri": "https://localhost:8080/"
        },
        "id": "kc8ad7N_vtS-",
        "outputId": "45f06813-f0fc-4879-8c56-27e590342aa8"
      },
      "execution_count": 96,
      "outputs": [
        {
          "output_type": "stream",
          "name": "stdout",
          "text": [
            "Hola, Juan!! Tienes 12.57 años. Dentro de 5 años tendras 23 años\n"
          ]
        }
      ]
    },
    {
      "cell_type": "code",
      "source": [
        "def my_function(*args, **kwargs):\n",
        "    print(\"mis parametros posicionales\", args)\n",
        "    print(\"mis parametros nombrados\", kwargs)\n",
        "\n",
        "my_function(1,2,3, name=\"valentina\", last_name=\"arenas\")"
      ],
      "metadata": {
        "colab": {
          "base_uri": "https://localhost:8080/"
        },
        "id": "c1L1XWEWxaW-",
        "outputId": "49ae6d08-003b-4c68-a4dd-a9f620046309"
      },
      "execution_count": 98,
      "outputs": [
        {
          "output_type": "stream",
          "name": "stdout",
          "text": [
            "mis parametros posicionales (1, 2, 3)\n",
            "mis parametros nombrados {'name': 'valentina', 'last_name': 'arenas'}\n"
          ]
        }
      ]
    }
  ]
}